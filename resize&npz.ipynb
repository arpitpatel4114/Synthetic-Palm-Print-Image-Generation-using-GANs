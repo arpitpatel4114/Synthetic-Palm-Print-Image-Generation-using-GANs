{
 "cells": [
  {
   "cell_type": "code",
   "execution_count": 1,
   "id": "0ced8948",
   "metadata": {},
   "outputs": [],
   "source": [
    "import numpy as np\n",
    "import cv2\n",
    "import os\n"
    "from tqdm import tqdm\n"
    "from keras.utils import img_to_array\n"
    "import re"
   ]
  },
  {
   "cell_type": "code",
   "execution_count": 9,
   "id": "30b179d9",
   "metadata": {},
   "outputs": [],
   "source": [
    "np.save('image2.npy', _img)"
   ]
  }
 ],
 "metadata": {
  "kernelspec": {
   "display_name": "Python 3 (ipykernel)",
   "language": "python",
   "name": "python3"
  },
  "language_info": {
   "codemirror_mode": {
    "name": "ipython",
    "version": 3
   },
   "file_extension": ".py",
   "mimetype": "text/x-python",
   "name": "python",
   "nbconvert_exporter": "python",
   "pygments_lexer": "ipython3",
   "version": "3.8.16"
  }
 },
 "nbformat": 4,
 "nbformat_minor": 5
}
