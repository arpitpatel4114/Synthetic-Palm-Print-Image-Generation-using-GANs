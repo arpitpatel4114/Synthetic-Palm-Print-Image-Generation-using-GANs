{
 "cells": [
  {
   "cell_type": "code",
   "execution_count": 3,
   "id": "e8239272",
   "metadata": {},
   "outputs": [],
   "source": [
    "import cv2\n",
    "import numpy as np\n",
    "import os\n",
    "from tqdm import tqdm\n",
    "from keras.utils import img_to_array\n",
    "import re"
   ]
  },
  {
   "cell_type": "code",
   "execution_count": 7,
   "id": "14968f06",
   "metadata": {},
   "outputs": [
    {
     "name": "stderr",
     "output_type": "stream",
     "text": [
      "100%|█████████████████████████████████████| 1301/1301 [00:00<00:00, 1791.55it/s]\n"
     ]
    }
   ],
   "source": [
    "SIZE = 128\n",
    "_img = []\n",
    "path = '/Users/arpitpatel/Documents/BTP/IITD Palmprint V1 2/Segmented/Left'\n",
    "files = os.listdir(path)\n",
    "count=0\n",
    "for i in tqdm(files):        \n",
    "    img = cv2.imread(os.path.join(path, i),-1)\n",
    "    if img is not None:\n",
    "        \n",
    "        rgb_batch = np.repeat(img[..., np.newaxis], 3, -1)            \n",
    "        img = cv2.cvtColor(rgb_batch, cv2.COLOR_BGR2RGB)\n",
    "        img_resized = cv2.resize(img, (SIZE, SIZE))\n",
    "        \n",
    "        img_normalized = (img_resized - 127.5) / 127.5\n",
    "        imh = img_normalized.astype(float)\n",
    "        \n",
    "        _img.append(img_to_array(img_normalized))\n"
   ]
  },
  {
   "cell_type": "code",
   "execution_count": 9,
   "id": "30b179d9",
   "metadata": {},
   "outputs": [],
   "source": [
    "np.save('image2.npy', _img)"
   ]
  }
 ],
 "metadata": {
  "kernelspec": {
   "display_name": "Python 3 (ipykernel)",
   "language": "python",
   "name": "python3"
  },
  "language_info": {
   "codemirror_mode": {
    "name": "ipython",
    "version": 3
   },
   "file_extension": ".py",
   "mimetype": "text/x-python",
   "name": "python",
   "nbconvert_exporter": "python",
   "pygments_lexer": "ipython3",
   "version": "3.8.16"
  }
 },
 "nbformat": 4,
 "nbformat_minor": 5
}
