{
 "cells": [
  {
   "cell_type": "code",
   "execution_count": 1,
   "id": "9bf5ead5",
   "metadata": {},
   "outputs": [],
   "source": [
    "from tensorflow import keras\n",
    "import numpy as np\n",
    "import cv2"
   ]
  },
  {
   "cell_type": "code",
   "execution_count": 2,
   "id": "98388b6e",
   "metadata": {},
   "outputs": [
    {
     "name": "stdout",
     "output_type": "stream",
     "text": [
      "WARNING:tensorflow:No training configuration found in the save file, so the model was *not* compiled. Compile it manually.\n"
     ]
    }
   ],
   "source": [
    "#load genrator\n",
    "generator = keras.models.load_model('generator.h5')\n",
    "\n",
    "num_images = 100"
   ]
  },
  {
   "cell_type": "code",
   "execution_count": 3,
   "id": "c5e60c6b",
   "metadata": {},
   "outputs": [
    {
     "name": "stdout",
     "output_type": "stream",
     "text": [
      "1/4 [======>.......................] - ETA: 0s"
     ]
    },
    {
     "name": "stderr",
     "output_type": "stream",
     "text": [
      "2023-04-14 13:34:22.047975: I tensorflow/core/grappler/optimizers/custom_graph_optimizer_registry.cc:114] Plugin optimizer for device_type GPU is enabled.\n"
     ]
    },
    {
     "name": "stdout",
     "output_type": "stream",
     "text": [
      "4/4 [==============================] - 6s 2s/step\n"
     ]
    }
   ],
   "source": [
    "#genrate images using our trained model and save them\n",
    "noise = np.random.normal(0, 1, (num_images, 100))\n",
    "gen_imgs = generator.predict(noise)\n",
    "for i, gen_img in enumerate(gen_imgs):\n",
    "    gen_img = 0.5 * gen_img + 0.5\n",
    "    gen_img = gen_img * 255\n",
    "    gen_img = gen_img.astype(np.uint8)\n",
    "    cv2.imwrite(f\"./images1/Noised Fakeat1-1/img_{i+1}.png\", gen_img)"
   ]
  }
 ],
 "metadata": {
  "kernelspec": {
   "display_name": "Python 3 (ipykernel)",
   "language": "python",
   "name": "python3"
  },
  "language_info": {
   "codemirror_mode": {
    "name": "ipython",
    "version": 3
   },
   "file_extension": ".py",
   "mimetype": "text/x-python",
   "name": "python",
   "nbconvert_exporter": "python",
   "pygments_lexer": "ipython3",
   "version": "3.8.16"
  }
 },
 "nbformat": 4,
 "nbformat_minor": 5
}
